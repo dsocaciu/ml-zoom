{
 "cells": [
  {
   "cell_type": "code",
   "execution_count": 22,
   "id": "74c047b6-daa0-4adc-ad1b-3789f151dde2",
   "metadata": {},
   "outputs": [],
   "source": [
    "import pandas as pd\n",
    "import numpy as np"
   ]
  },
  {
   "cell_type": "code",
   "execution_count": 42,
   "id": "4fad5b6d-5905-453e-ab15-078ab00900ac",
   "metadata": {},
   "outputs": [],
   "source": [
    "df = pd.read_csv(\"https://raw.githubusercontent.com/alexeygrigorev/datasets/master/car_fuel_efficiency.csv\")\n",
    "base = ['engine_displacement','horsepower','vehicle_weight','model_year','fuel_efficiency_mpg']\n",
    "df = df[base]"
   ]
  },
  {
   "cell_type": "code",
   "execution_count": 43,
   "id": "20f84c22-af11-4f7a-94c9-22e49539e73b",
   "metadata": {},
   "outputs": [
    {
     "data": {
      "text/plain": [
       "engine_displacement      0\n",
       "horsepower             708\n",
       "vehicle_weight           0\n",
       "model_year               0\n",
       "fuel_efficiency_mpg      0\n",
       "dtype: int64"
      ]
     },
     "execution_count": 43,
     "metadata": {},
     "output_type": "execute_result"
    }
   ],
   "source": [
    "#Question 1\n",
    "\n",
    "df.isnull().sum()"
   ]
  },
  {
   "cell_type": "code",
   "execution_count": 44,
   "id": "333c8da6-dc83-4ca2-8c5b-7e1bfc8618e9",
   "metadata": {},
   "outputs": [
    {
     "data": {
      "text/plain": [
       "np.float64(149.0)"
      ]
     },
     "execution_count": 44,
     "metadata": {},
     "output_type": "execute_result"
    }
   ],
   "source": [
    "#Question 2\n",
    "\n",
    "df['horsepower'].median()"
   ]
  },
  {
   "cell_type": "code",
   "execution_count": 51,
   "id": "1ef906be-df22-4f34-92a5-9dcce926e73c",
   "metadata": {},
   "outputs": [],
   "source": [
    "#Question 3\n",
    "\n",
    "base = ['horsepower']\n",
    "\n",
    "np.random.seed(42)\n",
    "\n",
    "n =len(df)\n",
    "n_val = int(n*0.2)\n",
    "n_test = int(n*0.2)\n",
    "n_train = n - (n_val + n_test)\n",
    "\n",
    "idx = np.arange(n)\n",
    "np.random.shuffle(idx)\n",
    "\n",
    "df_shuffled = df.iloc[idx]\n",
    "df_train = df_shuffled.iloc[idx[:n_train]].copy()\n",
    "df_val = df_shuffled.iloc[idx[n_train:n_train+n_val]].copy()\n",
    "df_test = df_shuffled.iloc[idx[n_train+n_val:]].copy()\n",
    "\n",
    "y_train = np.log1p(df_train.fuel_efficiency_mpg.values)\n",
    "y_val = np.log1p(df_val.fuel_efficiency_mpg.values)\n",
    "y_test = np.log1p(df_test.fuel_efficiency_mpg.values)"
   ]
  },
  {
   "cell_type": "code",
   "execution_count": null,
   "id": "6d6e7d29-f387-4ff0-8230-a59a1f0949a2",
   "metadata": {},
   "outputs": [],
   "source": []
  },
  {
   "cell_type": "code",
   "execution_count": null,
   "id": "65b6eab2-6209-4a06-925e-d628656b6307",
   "metadata": {},
   "outputs": [],
   "source": []
  },
  {
   "cell_type": "code",
   "execution_count": null,
   "id": "237b0a39-0dbf-41a3-853f-1d3dbfa3fcf2",
   "metadata": {},
   "outputs": [],
   "source": []
  },
  {
   "cell_type": "code",
   "execution_count": 27,
   "id": "3ed5c3ba-70f2-4230-afa6-ac0a8f5bac0a",
   "metadata": {},
   "outputs": [],
   "source": [
    "base = ['horsepower']"
   ]
  },
  {
   "cell_type": "code",
   "execution_count": 46,
   "id": "78983f2b-cb86-45f3-8aee-88fc4a705c62",
   "metadata": {},
   "outputs": [],
   "source": [
    "def prepare_X0(df):\n",
    "    df_num = df[base]\n",
    "    df_num = df_num.fillna(0)\n",
    "    X = df_num.values\n",
    "    return X\n",
    "\n",
    "def prepare_Xm(df):\n",
    "    df_num = df[base]\n",
    "    df_num = df_num.fillna(df_train[base].mean())\n",
    "    X = df_num.values\n",
    "    return X\n"
   ]
  },
  {
   "cell_type": "code",
   "execution_count": 47,
   "id": "b640b9fc-4e2f-45bf-9d8a-b7ece297de14",
   "metadata": {},
   "outputs": [],
   "source": [
    "def rmse(y,y_pred):\n",
    "    se = (y-y_pred)**2\n",
    "    mse = se.mean()\n",
    "    return np.sqrt(mse)"
   ]
  },
  {
   "cell_type": "code",
   "execution_count": 48,
   "id": "83354a16-fec7-4285-835c-d6e2a23f62d4",
   "metadata": {},
   "outputs": [],
   "source": [
    "def train_linear_regression(X, y):\n",
    "    ones = np.ones(X.shape[0])\n",
    "    X = np.column_stack([ones, X])\n",
    "\n",
    "    XTX = X.T.dot(X)\n",
    "    XTX_inv = np.linalg.inv(XTX)\n",
    "    w = XTX_inv.dot(X.T).dot(y)\n",
    "    \n",
    "    return w[0], w[1:]"
   ]
  },
  {
   "cell_type": "code",
   "execution_count": 52,
   "id": "2f389b8f-d6d8-4163-b036-916f58ceacb0",
   "metadata": {},
   "outputs": [
    {
     "data": {
      "text/plain": [
       "np.float64(0.16330280869823766)"
      ]
     },
     "execution_count": 52,
     "metadata": {},
     "output_type": "execute_result"
    }
   ],
   "source": [
    "X_val = prepare_X0(df_val)\n",
    "w_0, w = train_linear_regression(X_val, y_val)\n",
    "\n",
    "y_pred = w_0 + X_val.dot(w)\n",
    "rmse(y_pred,y_val)"
   ]
  },
  {
   "cell_type": "code",
   "execution_count": 53,
   "id": "e6d5f39d-53e4-4cdb-8f6a-f80646087b36",
   "metadata": {},
   "outputs": [
    {
     "data": {
      "text/plain": [
       "np.float64(0.1623737560933444)"
      ]
     },
     "execution_count": 53,
     "metadata": {},
     "output_type": "execute_result"
    }
   ],
   "source": [
    "X_val = prepare_Xm(df_val)\n",
    "w_0, w = train_linear_regression(X_val, y_val)\n",
    "\n",
    "y_pred = w_0 + X_val.dot(w)\n",
    "rmse(y_pred,y_val)"
   ]
  },
  {
   "cell_type": "code",
   "execution_count": 34,
   "id": "91ac35f7-2ed1-41f1-b0a8-d3141a4c49b4",
   "metadata": {},
   "outputs": [],
   "source": [
    "#rsme(df_m,df_val['horsepower'])"
   ]
  },
  {
   "cell_type": "code",
   "execution_count": 54,
   "id": "19c894a4-22d3-48a1-9914-116e2e6aa268",
   "metadata": {},
   "outputs": [],
   "source": [
    "#Question 4\n",
    "\n",
    "def prepare_X(df):\n",
    "    df_num = df[base]\n",
    "    df_num = df_num.fillna(0)\n",
    "    X = df_num.values\n",
    "    return X\n",
    "\n",
    "def train_linear_regression_reg(X, y, r=0.0):\n",
    "    ones = np.ones(X.shape[0])\n",
    "    X = np.column_stack([ones, X])\n",
    "\n",
    "    XTX = X.T.dot(X)\n",
    "    reg = r * np.eye(XTX.shape[0])\n",
    "    XTX = XTX + reg\n",
    "\n",
    "    XTX_inv = np.linalg.inv(XTX)\n",
    "    w = XTX_inv.dot(X.T).dot(y)\n",
    "    \n",
    "    return w[0], w[1:]"
   ]
  },
  {
   "cell_type": "code",
   "execution_count": 55,
   "id": "7ba6a635-6617-4ce7-9598-32eb2d2db674",
   "metadata": {},
   "outputs": [
    {
     "name": "stdout",
     "output_type": "stream",
     "text": [
      "0 0.16330280869823766\n",
      "0.01 0.16330281434946411\n",
      "0.1 0.16330337332455663\n",
      "1 0.16335877003800905\n",
      "5 0.16464382841843817\n",
      "10 0.16836313683227114\n",
      "100 0.33183216883360095\n"
     ]
    }
   ],
   "source": [
    "for r in [0, 0.01, 0.1, 1, 5, 10,100]:\n",
    "    X_val = prepare_X(df_val)\n",
    "    w_0, w = train_linear_regression_reg(X_val, y_val, r=r)\n",
    "\n",
    "    y_pred = w_0 + X_val.dot(w)\n",
    "    print(r,rmse(y_val,y_pred))"
   ]
  },
  {
   "cell_type": "code",
   "execution_count": 58,
   "id": "3cdc11e5-a199-46f1-adba-ad4945837eaf",
   "metadata": {},
   "outputs": [
    {
     "name": "stdout",
     "output_type": "stream",
     "text": [
      "0.002\n"
     ]
    }
   ],
   "source": [
    "#Question 5\n",
    "\n",
    "seeds = range(10)\n",
    "base = ['horsepower']\n",
    "rmses = []\n",
    "\n",
    "for seed in seeds:\n",
    "    np.random.seed(seed)\n",
    "    \n",
    "    n =len(df)\n",
    "    n_val = int(n*0.2)\n",
    "    n_test = int(n*0.2)\n",
    "    n_train = n - (n_val + n_test)\n",
    "    \n",
    "    idx = np.arange(n)\n",
    "    np.random.shuffle(idx)\n",
    "    \n",
    "    df_shuffled = df.iloc[idx]\n",
    "    df_train = df_shuffled.iloc[idx[:n_train]].copy()\n",
    "    df_val = df_shuffled.iloc[idx[n_train:n_train+n_val]].copy()\n",
    "    df_test = df_shuffled.iloc[idx[n_train+n_val:]].copy()\n",
    "    \n",
    "    y_train = np.log1p(df_train.fuel_efficiency_mpg.values)\n",
    "    y_val = np.log1p(df_val.fuel_efficiency_mpg.values)\n",
    "    y_test = np.log1p(df_test.fuel_efficiency_mpg.values)\n",
    "\n",
    "    X_val = prepare_X(df_val)\n",
    "    w_0, w = train_linear_regression(X_val, y_val)\n",
    "\n",
    "    y_pred = w_0 + X_val.dot(w)\n",
    "    rmses.append(rmse(y_val,y_pred))\n",
    "\n",
    "print(round(np.std(rmses),3))"
   ]
  },
  {
   "cell_type": "code",
   "execution_count": null,
   "id": "56b58ecb-1d11-4710-86ee-ca75066a47ac",
   "metadata": {},
   "outputs": [],
   "source": []
  },
  {
   "cell_type": "code",
   "execution_count": null,
   "id": "72b40a11-8f9c-43a9-a631-b2e256c8b38e",
   "metadata": {},
   "outputs": [],
   "source": [
    "#Question 6\n"
   ]
  }
 ],
 "metadata": {
  "kernelspec": {
   "display_name": "Python 3 (ipykernel)",
   "language": "python",
   "name": "python3"
  },
  "language_info": {
   "codemirror_mode": {
    "name": "ipython",
    "version": 3
   },
   "file_extension": ".py",
   "mimetype": "text/x-python",
   "name": "python",
   "nbconvert_exporter": "python",
   "pygments_lexer": "ipython3",
   "version": "3.12.1"
  }
 },
 "nbformat": 4,
 "nbformat_minor": 5
}
