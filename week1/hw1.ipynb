{
 "cells": [
  {
   "cell_type": "code",
   "execution_count": 1,
   "id": "409ba081-430e-4818-9381-58739f591d1b",
   "metadata": {},
   "outputs": [],
   "source": [
    "import os \n",
    "import numpy as np\n",
    "import pandas as pd"
   ]
  },
  {
   "cell_type": "code",
   "execution_count": 2,
   "id": "93dabf42-48f0-4fc3-8291-d901d8ea6df5",
   "metadata": {},
   "outputs": [
    {
     "data": {
      "text/plain": [
       "'2.3.1'"
      ]
     },
     "execution_count": 2,
     "metadata": {},
     "output_type": "execute_result"
    }
   ],
   "source": [
    "##Question 1\n",
    "\n",
    "pd.__version__"
   ]
  },
  {
   "cell_type": "code",
   "execution_count": 3,
   "id": "8c098217-8263-451b-a9d0-4bfbecb55d72",
   "metadata": {},
   "outputs": [
    {
     "data": {
      "text/plain": [
       "9704"
      ]
     },
     "execution_count": 3,
     "metadata": {},
     "output_type": "execute_result"
    }
   ],
   "source": [
    "#Question 2 \n",
    "\n",
    "df = pd.read_csv(\"https://raw.githubusercontent.com/alexeygrigorev/datasets/master/car_fuel_efficiency.csv\")\n",
    "\n",
    "len(df)"
   ]
  },
  {
   "cell_type": "code",
   "execution_count": 4,
   "id": "73bb0a3a-a694-4d0b-b336-4d89521db8ec",
   "metadata": {},
   "outputs": [
    {
     "data": {
      "text/plain": [
       "Index(['engine_displacement', 'num_cylinders', 'horsepower', 'vehicle_weight',\n",
       "       'acceleration', 'model_year', 'origin', 'fuel_type', 'drivetrain',\n",
       "       'num_doors', 'fuel_efficiency_mpg'],\n",
       "      dtype='object')"
      ]
     },
     "execution_count": 4,
     "metadata": {},
     "output_type": "execute_result"
    }
   ],
   "source": [
    "#Question 3\n",
    "\n",
    "df.columns"
   ]
  },
  {
   "cell_type": "code",
   "execution_count": 5,
   "id": "693c91aa-e54e-4790-8947-5ea03edf6da3",
   "metadata": {},
   "outputs": [
    {
     "data": {
      "text/plain": [
       "2"
      ]
     },
     "execution_count": 5,
     "metadata": {},
     "output_type": "execute_result"
    }
   ],
   "source": [
    "df['fuel_type'].nunique()"
   ]
  },
  {
   "cell_type": "code",
   "execution_count": 7,
   "id": "0ac444fe-28dd-46db-b670-15af4fe8d84a",
   "metadata": {},
   "outputs": [
    {
     "data": {
      "text/plain": [
       "np.int64(4)"
      ]
     },
     "execution_count": 7,
     "metadata": {},
     "output_type": "execute_result"
    }
   ],
   "source": [
    "# Question 4\n",
    "\n",
    "df.isnull().any().sum()"
   ]
  },
  {
   "cell_type": "code",
   "execution_count": 8,
   "id": "10aa9a4e-579e-47b6-bd8d-a0d0cfdcde7a",
   "metadata": {},
   "outputs": [
    {
     "data": {
      "text/plain": [
       "array(['Europe', 'USA', 'Asia'], dtype=object)"
      ]
     },
     "execution_count": 8,
     "metadata": {},
     "output_type": "execute_result"
    }
   ],
   "source": [
    "#Question 5\n",
    "df['origin'].unique()"
   ]
  },
  {
   "cell_type": "code",
   "execution_count": 9,
   "id": "043fd41c-81e0-41ff-aad9-2014bab14772",
   "metadata": {},
   "outputs": [
    {
     "data": {
      "text/plain": [
       "np.float64(23.759122836520497)"
      ]
     },
     "execution_count": 9,
     "metadata": {},
     "output_type": "execute_result"
    }
   ],
   "source": [
    "df[df['origin'] == 'Asia']['fuel_efficiency_mpg'].max()"
   ]
  },
  {
   "cell_type": "code",
   "execution_count": 10,
   "id": "f078cc30-8d63-4a92-9854-dfe36fe86865",
   "metadata": {},
   "outputs": [],
   "source": [
    "#Question 6"
   ]
  },
  {
   "cell_type": "code",
   "execution_count": 14,
   "id": "46d56558-3fa2-4b2d-a5c9-539af25a2867",
   "metadata": {},
   "outputs": [],
   "source": [
    "df['horsepower'].median() #149.0\n",
    "\n",
    "df['horsepower'].mode() #152.0\n",
    "\n",
    "df['horsepower'] = df['horsepower'].fillna(df['horsepower'].mode())"
   ]
  },
  {
   "cell_type": "code",
   "execution_count": 15,
   "id": "f6c45357-da9d-4877-b161-ae65df84d1d9",
   "metadata": {},
   "outputs": [
    {
     "data": {
      "text/plain": [
       "np.float64(149.0)"
      ]
     },
     "execution_count": 15,
     "metadata": {},
     "output_type": "execute_result"
    }
   ],
   "source": [
    "df['horsepower'].median()"
   ]
  },
  {
   "cell_type": "code",
   "execution_count": 16,
   "id": "67b8b357-5170-48d2-8a9a-c41523aec162",
   "metadata": {},
   "outputs": [],
   "source": [
    "#no change"
   ]
  },
  {
   "cell_type": "code",
   "execution_count": 17,
   "id": "ac1c2f25-d95b-4373-b52a-6abfb9271988",
   "metadata": {},
   "outputs": [],
   "source": [
    "#Question 7"
   ]
  },
  {
   "cell_type": "code",
   "execution_count": 18,
   "id": "ef592070-7923-4a9c-8739-93cee5809ce6",
   "metadata": {},
   "outputs": [],
   "source": [
    "df_asia = df[df['origin'] == 'Asia']"
   ]
  },
  {
   "cell_type": "code",
   "execution_count": 19,
   "id": "4ddbe4e5-3d40-4ad2-9696-527c3374614c",
   "metadata": {},
   "outputs": [],
   "source": [
    "df_asia_vwmy = df_asia[['vehicle_weight','model_year']]"
   ]
  },
  {
   "cell_type": "code",
   "execution_count": 23,
   "id": "aa6521cd-1f13-47de-87f3-8ced03808f19",
   "metadata": {},
   "outputs": [],
   "source": [
    "X = df_asia_vwmy.head(7).values"
   ]
  },
  {
   "cell_type": "code",
   "execution_count": 24,
   "id": "61d4234a-2c4a-4e27-9a8f-faa6a5e8f5fe",
   "metadata": {},
   "outputs": [],
   "source": [
    "XT = X.T"
   ]
  },
  {
   "cell_type": "code",
   "execution_count": 25,
   "id": "fc9c0823-ddcd-4bcc-88ec-a14dea61f4a0",
   "metadata": {},
   "outputs": [],
   "source": [
    "XTX = XT.dot(X)"
   ]
  },
  {
   "cell_type": "code",
   "execution_count": 26,
   "id": "1e371ccc-e7a9-4d69-b0c9-d041941ee187",
   "metadata": {},
   "outputs": [],
   "source": [
    "XTX_inv = np.linalg.inv(XTX)"
   ]
  },
  {
   "cell_type": "code",
   "execution_count": 27,
   "id": "bbd70433-3b47-4869-8086-dc0b12cc471f",
   "metadata": {},
   "outputs": [],
   "source": [
    "y = [1100, 1300, 800, 900, 1000, 1100, 1200]"
   ]
  },
  {
   "cell_type": "code",
   "execution_count": 28,
   "id": "5f0bdb60-082c-4007-8196-35a67198c62d",
   "metadata": {},
   "outputs": [],
   "source": [
    "x_int = XTX_inv.dot(XT)"
   ]
  },
  {
   "cell_type": "code",
   "execution_count": 29,
   "id": "32576262-9b06-4015-a038-6e27e0edd922",
   "metadata": {},
   "outputs": [],
   "source": [
    "w = x_int.dot(y)"
   ]
  },
  {
   "cell_type": "code",
   "execution_count": 30,
   "id": "684208cb-c3b1-433b-9c58-66f6c6a985f0",
   "metadata": {},
   "outputs": [
    {
     "data": {
      "text/plain": [
       "np.float64(0.5187709081074016)"
      ]
     },
     "execution_count": 30,
     "metadata": {},
     "output_type": "execute_result"
    }
   ],
   "source": [
    "w.sum()"
   ]
  },
  {
   "cell_type": "code",
   "execution_count": null,
   "id": "a0a5a277-8a76-4bc9-85e5-0b8b6dfcb686",
   "metadata": {},
   "outputs": [],
   "source": []
  }
 ],
 "metadata": {
  "kernelspec": {
   "display_name": "Python 3 (ipykernel)",
   "language": "python",
   "name": "python3"
  },
  "language_info": {
   "codemirror_mode": {
    "name": "ipython",
    "version": 3
   },
   "file_extension": ".py",
   "mimetype": "text/x-python",
   "name": "python",
   "nbconvert_exporter": "python",
   "pygments_lexer": "ipython3",
   "version": "3.12.1"
  }
 },
 "nbformat": 4,
 "nbformat_minor": 5
}
